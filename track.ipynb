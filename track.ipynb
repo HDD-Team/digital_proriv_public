{
 "cells": [
  {
   "cell_type": "code",
   "outputs": [
    {
     "name": "stdout",
     "output_type": "stream",
     "text": [
      "Requirement already satisfied: matplotlib in d:\\padla\\.venv\\lib\\site-packages (3.8.4)\n",
      "Collecting torch\n",
      "  Using cached torch-2.2.2-cp310-cp310-win_amd64.whl.metadata (26 kB)\n",
      "Collecting torchvision\n",
      "  Using cached torchvision-0.17.2-cp310-cp310-win_amd64.whl.metadata (6.6 kB)\n",
      "Requirement already satisfied: contourpy>=1.0.1 in d:\\padla\\.venv\\lib\\site-packages (from matplotlib) (1.2.1)\n",
      "Requirement already satisfied: cycler>=0.10 in d:\\padla\\.venv\\lib\\site-packages (from matplotlib) (0.12.1)\n",
      "Requirement already satisfied: fonttools>=4.22.0 in d:\\padla\\.venv\\lib\\site-packages (from matplotlib) (4.51.0)\n",
      "Requirement already satisfied: kiwisolver>=1.3.1 in d:\\padla\\.venv\\lib\\site-packages (from matplotlib) (1.4.5)\n",
      "Requirement already satisfied: numpy>=1.21 in d:\\padla\\.venv\\lib\\site-packages (from matplotlib) (1.26.4)\n",
      "Requirement already satisfied: packaging>=20.0 in d:\\padla\\.venv\\lib\\site-packages (from matplotlib) (24.0)\n",
      "Requirement already satisfied: pillow>=8 in d:\\padla\\.venv\\lib\\site-packages (from matplotlib) (10.3.0)\n",
      "Requirement already satisfied: pyparsing>=2.3.1 in d:\\padla\\.venv\\lib\\site-packages (from matplotlib) (3.1.2)\n",
      "Requirement already satisfied: python-dateutil>=2.7 in d:\\padla\\.venv\\lib\\site-packages (from matplotlib) (2.9.0.post0)\n",
      "Collecting filelock (from torch)\n",
      "  Using cached filelock-3.13.4-py3-none-any.whl.metadata (2.8 kB)\n",
      "Requirement already satisfied: typing-extensions>=4.8.0 in d:\\padla\\.venv\\lib\\site-packages (from torch) (4.11.0)\n",
      "Requirement already satisfied: sympy in d:\\padla\\.venv\\lib\\site-packages (from torch) (1.12)\n",
      "Requirement already satisfied: networkx in d:\\padla\\.venv\\lib\\site-packages (from torch) (3.3)\n",
      "Requirement already satisfied: jinja2 in d:\\padla\\.venv\\lib\\site-packages (from torch) (3.1.3)\n",
      "Collecting fsspec (from torch)\n",
      "  Using cached fsspec-2024.3.1-py3-none-any.whl.metadata (6.8 kB)\n",
      "Requirement already satisfied: six>=1.5 in d:\\padla\\.venv\\lib\\site-packages (from python-dateutil>=2.7->matplotlib) (1.16.0)\n",
      "Requirement already satisfied: MarkupSafe>=2.0 in d:\\padla\\.venv\\lib\\site-packages (from jinja2->torch) (2.1.5)\n",
      "Requirement already satisfied: mpmath>=0.19 in d:\\padla\\.venv\\lib\\site-packages (from sympy->torch) (1.3.0)\n",
      "Using cached torch-2.2.2-cp310-cp310-win_amd64.whl (198.6 MB)\n",
      "Using cached torchvision-0.17.2-cp310-cp310-win_amd64.whl (1.2 MB)\n",
      "Using cached filelock-3.13.4-py3-none-any.whl (11 kB)\n",
      "Using cached fsspec-2024.3.1-py3-none-any.whl (171 kB)\n",
      "Installing collected packages: fsspec, filelock, torch, torchvision\n",
      "Successfully installed filelock-3.13.4 fsspec-2024.3.1 torch-2.2.2 torchvision-0.17.2\n"
     ]
    }
   ],
   "source": [
    "!pip install matplotlib torch torchvision"
   ],
   "metadata": {
    "collapsed": false,
    "ExecuteTime": {
     "end_time": "2024-04-13T12:22:07.129742700Z",
     "start_time": "2024-04-13T12:21:52.695956Z"
    }
   },
   "id": "a05253e64e3bd002",
   "execution_count": 19
  },
  {
   "cell_type": "code",
   "outputs": [],
   "source": [
    "import os\n",
    "import glob\n",
    "import torch\n",
    "import cv2\n",
    "import numpy as np\n",
    "from PIL import Image\n",
    "\n",
    "class YOLOv7Dataset(torch.utils.data.Dataset):\n",
    "    def __init__(self, img_dir, label_dir, transform=None):\n",
    "        self.img_paths = sorted(glob.glob(os.path.join(img_dir, '*.jpg')))\n",
    "        self.label_paths = [os.path.join(label_dir, f.split('/')[-1].split('.')[0] + '.txt') for f in self.img_paths]\n",
    "        self.transform = transform\n",
    "\n",
    "    def __len__(self):\n",
    "        return len(self.img_paths)\n",
    "\n",
    "    def __getitem__(self, idx):\n",
    "        img_path = self.img_paths[idx]\n",
    "        label_path = self.label_paths[idx]\n",
    "\n",
    "        img = cv2.imread(img_path)\n",
    "        img = cv2.cvtColor(img, cv2.COLOR_BGR2RGB)\n",
    "\n",
    "        with open(label_path, 'r') as f:\n",
    "            lines = f.readlines()\n",
    "\n",
    "        boxes = []\n",
    "        classes = []\n",
    "        for line in lines:\n",
    "            class_id, x, y, w, h = map(float, line.strip().split(' '))\n",
    "            boxes.append([x, y, x + w, y + h])\n",
    "            classes.append(class_id)\n",
    "\n",
    "        boxes = np.array(boxes, dtype=np.float32)\n",
    "        classes = np.array(classes, dtype=np.float32)\n",
    "\n",
    "        if self.transform:\n",
    "            img, boxes, classes = self.transform((img, boxes, classes))\n",
    "\n",
    "        return img, boxes, classes"
   ],
   "metadata": {
    "collapsed": false,
    "ExecuteTime": {
     "end_time": "2024-04-13T12:32:08.061936200Z",
     "start_time": "2024-04-13T12:32:07.052653700Z"
    }
   },
   "id": "17015f442bd55cfe",
   "execution_count": 20
  },
  {
   "cell_type": "code",
   "outputs": [],
   "source": [
    "from torchvision.transforms import RandomHorizontalFlip\n",
    "from torchvision import transforms\n",
    "from albumentations import Resize, Normalize\n",
    "\n",
    "data_transforms = transforms.Compose([\n",
    "    RandomHorizontalFlip(),\n",
    "    Normalize(mean=[0.485, 0.456, 0.406], std=[0.229, 0.224, 0.225]),\n",
    "])"
   ],
   "metadata": {
    "collapsed": false,
    "ExecuteTime": {
     "end_time": "2024-04-13T12:48:29.318526200Z",
     "start_time": "2024-04-13T12:48:29.293519800Z"
    }
   },
   "id": "e50b2a4c03af8f24",
   "execution_count": 23
  },
  {
   "cell_type": "code",
   "outputs": [],
   "source": [
    "dataset = YOLOv7Dataset('lables/images', 'lables/labels', transform=data_transforms)\n",
    "dataloader = torch.utils.data.DataLoader(dataset, batch_size=16, shuffle=True, num_workers=4)"
   ],
   "metadata": {
    "collapsed": false,
    "ExecuteTime": {
     "end_time": "2024-04-13T12:48:29.434858500Z",
     "start_time": "2024-04-13T12:48:29.417154200Z"
    }
   },
   "id": "18b25b00381e5ca9",
   "execution_count": 24
  },
  {
   "cell_type": "markdown",
   "source": [
    "Train"
   ],
   "metadata": {
    "collapsed": false
   },
   "id": "1e254bd405c32b3e"
  },
  {
   "cell_type": "code",
   "outputs": [
    {
     "ename": "ModuleNotFoundError",
     "evalue": "No module named 'models'",
     "output_type": "error",
     "traceback": [
      "\u001B[1;31m---------------------------------------------------------------------------\u001B[0m",
      "\u001B[1;31mModuleNotFoundError\u001B[0m                       Traceback (most recent call last)",
      "Cell \u001B[1;32mIn[25], line 6\u001B[0m\n\u001B[0;32m      3\u001B[0m \u001B[38;5;28;01mfrom\u001B[39;00m \u001B[38;5;21;01mtorch\u001B[39;00m\u001B[38;5;21;01m.\u001B[39;00m\u001B[38;5;21;01moptim\u001B[39;00m\u001B[38;5;21;01m.\u001B[39;00m\u001B[38;5;21;01mlr_scheduler\u001B[39;00m \u001B[38;5;28;01mimport\u001B[39;00m StepLR\n\u001B[0;32m      4\u001B[0m \u001B[38;5;28;01mfrom\u001B[39;00m \u001B[38;5;21;01mtqdm\u001B[39;00m \u001B[38;5;28;01mimport\u001B[39;00m tqdm\n\u001B[1;32m----> 6\u001B[0m \u001B[38;5;28;01mfrom\u001B[39;00m \u001B[38;5;21;01mmodels\u001B[39;00m\u001B[38;5;21;01m.\u001B[39;00m\u001B[38;5;21;01myolo\u001B[39;00m \u001B[38;5;28;01mimport\u001B[39;00m Model\n\u001B[0;32m      7\u001B[0m \u001B[38;5;28;01mfrom\u001B[39;00m \u001B[38;5;21;01mutils\u001B[39;00m\u001B[38;5;21;01m.\u001B[39;00m\u001B[38;5;21;01mdatasets\u001B[39;00m \u001B[38;5;28;01mimport\u001B[39;00m YOLOv7Dataset\n\u001B[0;32m      8\u001B[0m \u001B[38;5;28;01mfrom\u001B[39;00m \u001B[38;5;21;01mutils\u001B[39;00m\u001B[38;5;21;01m.\u001B[39;00m\u001B[38;5;21;01mgeneral\u001B[39;00m \u001B[38;5;28;01mimport\u001B[39;00m non_max_suppression, apply_classifier, scale_coords, xyxy2xywh, strip_optimizer, set_logging\n",
      "\u001B[1;31mModuleNotFoundError\u001B[0m: No module named 'models'"
     ]
    }
   ],
   "source": [
    "import torch\n",
    "import torch.optim as optim\n",
    "from torch.optim.lr_scheduler import StepLR\n",
    "from tqdm import tqdm\n",
    "\n",
    "\n",
    "\n",
    "# Initialize model\n",
    "device = select_device('')\n",
    "half = device.type != 'cpu'  # half precision only supported on CUDA\n",
    "model = Model(device)\n",
    "\n",
    "# Load weights\n",
    "load_classifier(model, 'yolov7.pt') if device.type != 'cpu' else None\n",
    "\n",
    "# Initialize optimizer\n",
    "optimizer = optim.AdamW(model.parameters(), lr=1e-4, weight_decay=0.05)\n",
    "\n",
    "# Initialize scheduler\n",
    "scheduler = StepLR(optimizer, step_size=3, gamma=0.1)\n",
    "\n",
    "# Define loss function\n",
    "criterion = torch.nn.MSELoss()\n",
    "\n",
    "# Set logging\n",
    "logging = set_logging()\n",
    "\n",
    "# Train loop\n",
    "for epoch in range(10):  # 10 epochs\n",
    "    model.train()\n",
    "    for images, targets in tqdm(dataloader, desc=f'Epoch {epoch + 1}'):\n",
    "        images = list(image.to(device) for image in images)\n",
    "        targets = [{k: v.to(device) for k, v in t.items()} for t in targets]\n",
    "\n",
    "        # Forward pass\n",
    "        pred = model(images)\n",
    "\n",
    "        # Compute loss\n",
    "        loss_dict = {}\n",
    "        for i in range(len(pred)):\n",
    "            loss_dict[f'loss{i}'] = criterion(pred[i], targets[i]['labels'].float())\n",
    "\n",
    "        # Backward pass\n",
    "        optimizer.zero_grad()\n",
    "        total_loss = sum(loss for loss in loss_dict.values())\n",
    "        total_loss.backward()\n",
    "\n",
    "        # Update weights\n",
    "        optimizer.step()\n",
    "\n",
    "        # Update scheduler\n",
    "        scheduler.step()\n",
    "\n",
    "    # Evaluate on validation set\n",
    "    model.eval()\n",
    "    with torch.no_grad():\n",
    "        for images, targets in tqdm(val_dataloader, desc='Validation'):\n",
    "            images = list(image.to(device) for image in images)\n",
    "            targets = [{k: v.to(device) for k, v in t.items()} for t in targets]\n",
    "\n",
    "            pred = model(images)\n",
    "\n",
    "            # Compute loss\n",
    "            loss_dict = {}\n",
    "            for i in range(len(pred)):\n",
    "                loss_dict[f'loss{i}'] = criterion(pred[i], targets[i]['labels'].float())\n",
    "\n",
    "            # Compute metrics\n",
    "            metrics_dict = {}\n",
    "            for i in range(len(pred)):\n",
    "                # Compute metrics for each output\n",
    "                pass  # Add your code here\n",
    "\n",
    "            # Accumulate metrics\n",
    "            for k, v in metrics_dict.items():\n",
    "                logging[k] += v\n",
    "\n",
    "    # Print metrics\n",
    "    for k, v in logging.items():\n",
    "        print(f'{k}: {v / (len(val_dataloader) * (epoch + 1)):.4f}')"
   ],
   "metadata": {
    "collapsed": false,
    "ExecuteTime": {
     "end_time": "2024-04-13T12:55:19.205843400Z",
     "start_time": "2024-04-13T12:55:19.168773600Z"
    }
   },
   "id": "774c94244b2ab001",
   "execution_count": 25
  },
  {
   "cell_type": "code",
   "outputs": [],
   "source": [],
   "metadata": {
    "collapsed": false
   },
   "id": "33fa25e6b1b6d332"
  }
 ],
 "metadata": {
  "kernelspec": {
   "display_name": "Python 3",
   "language": "python",
   "name": "python3"
  },
  "language_info": {
   "codemirror_mode": {
    "name": "ipython",
    "version": 2
   },
   "file_extension": ".py",
   "mimetype": "text/x-python",
   "name": "python",
   "nbconvert_exporter": "python",
   "pygments_lexer": "ipython2",
   "version": "2.7.6"
  }
 },
 "nbformat": 4,
 "nbformat_minor": 5
}
