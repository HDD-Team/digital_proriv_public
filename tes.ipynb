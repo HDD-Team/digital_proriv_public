{
 "cells": [
  {
   "cell_type": "code",
   "outputs": [],
   "source": [
    "!pip install pytesseract[all]"
   ],
   "metadata": {
    "collapsed": false
   },
   "id": "41460198be18a100",
   "execution_count": null
  },
  {
   "cell_type": "code",
   "execution_count": null,
   "id": "initial_id",
   "metadata": {
    "collapsed": true
   },
   "outputs": [],
   "source": [
    "import cv2\n",
    "import numpy as np\n",
    "import pytesseract"
   ]
  },
  {
   "cell_type": "code",
   "outputs": [],
   "source": [
    "img = cv2.imread('train/IMG_5761.jpg')"
   ],
   "metadata": {
    "collapsed": false
   },
   "id": "115d3b569a340525",
   "execution_count": null
  },
  {
   "cell_type": "code",
   "outputs": [],
   "source": [
    "gray_image = cv2.cvtColor(img, cv2.COLOR_BGR2GRAY)"
   ],
   "metadata": {
    "collapsed": false
   },
   "id": "4c970c41afbfb0ca",
   "execution_count": null
  },
  {
   "cell_type": "code",
   "outputs": [],
   "source": [
    "pytesseract.pytesseract.tesseract_cmd = r\"D:\\PADLA\\tes_ocr\\tesseract.exe\""
   ],
   "metadata": {
    "collapsed": false
   },
   "id": "e9e4f62eeff18a5c",
   "execution_count": null
  },
  {
   "cell_type": "code",
   "outputs": [],
   "source": [
    "thresh = cv2.threshold(gray_image, 0, 255, cv2.THRESH_BINARY_INV + cv2.THRESH_OTSU)[1]\n",
    "kernel = cv2.getStructuringElement(cv2.MORPH_RECT, (3, 3))\n",
    "thresh = cv2.dilate(thresh, kernel, iterations=1)\n",
    "thresh = cv2.erode(thresh, kernel, iterations=1)"
   ],
   "metadata": {
    "collapsed": false
   },
   "id": "3ff7403d5e679d39",
   "execution_count": null
  },
  {
   "cell_type": "code",
   "outputs": [],
   "source": [
    "thresh = cv2.resize(thresh, (thresh.shape[1]//5, thresh.shape[0]//5))\n",
    "string = pytesseract.image_to_string(thresh, lang='rus', config='--psm 6')\n",
    "cv2.imshow('Image', thresh)\n",
    "print(string)"
   ],
   "metadata": {
    "collapsed": false
   },
   "id": "1db5d50c83ebd6b5",
   "execution_count": null
  },
  {
   "cell_type": "code",
   "outputs": [],
   "source": [
    "# canny = cv2.Canny(cv2.cvtColor(cv2.resize(img, (img.shape[1]//5, img.shape[0]//5)), cv2.COLOR_BGR2GRAY), 100, 200)"
   ],
   "metadata": {
    "collapsed": false
   },
   "id": "4a972b5709b84093",
   "execution_count": null
  },
  {
   "cell_type": "code",
   "outputs": [],
   "source": [
    "# cv2.imshow('Canny', canny)\n",
    "# cv2.imshow('Image', thresh)\n",
    "# cv2.waitKey(0)\n",
    "# print(string)"
   ],
   "metadata": {
    "collapsed": false
   },
   "id": "609e6bef553784a1",
   "execution_count": null
  },
  {
   "cell_type": "code",
   "outputs": [],
   "source": [
    "cv2.destroyAllWindows()"
   ],
   "metadata": {
    "collapsed": false
   },
   "id": "ab820ed10776b695",
   "execution_count": null
  },
  {
   "cell_type": "code",
   "outputs": [],
   "source": [],
   "metadata": {
    "collapsed": false
   },
   "id": "d1ffebe3495634c0"
  }
 ],
 "metadata": {
  "kernelspec": {
   "display_name": "Python 3",
   "language": "python",
   "name": "python3"
  },
  "language_info": {
   "codemirror_mode": {
    "name": "ipython",
    "version": 2
   },
   "file_extension": ".py",
   "mimetype": "text/x-python",
   "name": "python",
   "nbconvert_exporter": "python",
   "pygments_lexer": "ipython2",
   "version": "2.7.6"
  }
 },
 "nbformat": 4,
 "nbformat_minor": 5
}
