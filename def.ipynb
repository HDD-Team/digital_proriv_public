{
 "cells": [
  {
   "cell_type": "code",
   "execution_count": null,
   "id": "initial_id",
   "metadata": {
    "collapsed": true
   },
   "outputs": [],
   "source": [
    "import cv2\n",
    "import os\n",
    "import numpy as np\n",
    "import sys\n",
    "import re\n",
    "import pandas as pd\n",
    "import matplotlib.pyplot as plt\n",
    "import matplotlib.image as img\n",
    "import time\n",
    "import numpy\n",
    " \n",
    "# Importing functions and methods for OCR\n",
    "from paddleocr.tools.infer.predict_rec import *\n",
    "import paddleocr.tools.infer.utility as utility\n",
    "from paddleocr.ppocr.postprocess import build_post_process\n",
    "from paddleocr.ppocr.utils.logging import get_logger\n",
    "from paddleocr.ppocr.utils.utility import get_image_file_list, check_and_read"
   ]
  },
  {
   "cell_type": "code",
   "outputs": [],
   "source": [
    "def rec(args, out_path, input, rec_model_dir,rec_image_shape = \"3, 32, 320\", rec_char_type = \"ch\", rec_algorithm = \"CRNN\", show = True, save = True):\n",
    "    # Assigning values to args as the code is not running from the console.\n",
    "    args.rec_model_dir = rec_model_dir\n",
    "    args.rec_image_shape = rec_image_shape\n",
    "    args.rec_char_type = rec_char_type\n",
    "    args.rec_algorithm = rec_algorithm\n",
    "    \n",
    " \n",
    "    # Initializing some helper variables.\n",
    "    t1 = 0\n",
    "    t2 = 0\n",
    "    tot = []\n",
    "    os.chdir('./PaddleOCR')\n",
    " \n",
    "    # Passing required values to the args variables.\n",
    "    # if rec_algorithm == \"SRN\":\n",
    "    #   args.rec_char_dict_path = 'ic15_dict.txt'\n",
    "    #   args.use_space_char = False\n",
    "    # \n",
    "    # if rec_algorithm == 'NRTR':\n",
    "    #   args.rec_char_dict_path = './ppocr/utils/EN_symbol_dict.txt'\n",
    "    #   args.rec_image_shape = \"1,32,100\"\n",
    "    \n",
    "    # Initializing recognizer.\n",
    "    image_file_list = get_image_file_list(input)\n",
    "    text_recognizer = TextRecognizer(args)\n",
    "    valid_image_file_list = []\n",
    "    img_list = []\n",
    " \n",
    "    # Warming up the GPU to run it at its full capacity.\n",
    "    if args.warmup:\n",
    "        image = np.random.uniform(0, 255, [32, 320, 3]).astype(np.uint8)\n",
    "        for i in range(10):\n",
    "            res = text_recognizer([image])\n",
    " \n",
    "    # Reading and appending all images' array to a list.\n",
    "    for image_file in image_file_list:\n",
    "        image, flag = check_and_read(image_file)\n",
    "        if not flag:\n",
    "            image = cv2.imread(image_file)\n",
    "        if image is None:\n",
    "            logger.info(\"error in loading image:{}\".format(image_file))\n",
    "            continue\n",
    "        valid_image_file_list.append(image_file)\n",
    "        img_list.append(image)\n",
    " \n",
    "    # Applying OCR to the images\n",
    "    t1 = time.time()\n",
    "    try:\n",
    "        rec_res, _ = text_recognizer(img_list)\n",
    "    except Exception as E:\n",
    "        logger.info(traceback.format_exc())\n",
    "        logger.info(E)\n",
    "        exit()\n",
    "    \n",
    "    # Calculating FPS and printing the info.\n",
    "    t2 = time.time()\n",
    "    fps = str(t2-t1)\n",
    "    for ino in range(len(img_list)):\n",
    "        logger.info(\"Predicts of {}:{}\".format(valid_image_file_list[ino],\n",
    "                                              rec_res[ino]))\n",
    "        if save:\n",
    "          cv2.imwrite(os.path.join(out_path,valid_image_file_list[ino].split('/')[-1].split('.')[0] + '_rec' + '.jpg'),img_list[ino])\n",
    "          with open(os.path.join(out_path,valid_image_file_list[ino].split('/')[-1].split('.')[0] + '.txt'), 'w') as f:\n",
    "            f.write(str(rec_res[ino]))\n",
    "    logger.info(\"Time taken recognize all images : {}\".format(fps))\n",
    "    print(len(image_file_list))\n",
    "    logger.info(\"Average fps : {}\".format(1/(float(fps)/len(image_file_list))))\n",
    "    \n",
    "    #cv2.putText(image, str(rec_res[ino]),(0, int(15 * 1)), cv2.FONT_HERSHEY_PLAIN, 2, (0, 0, 255), thickness=1)\n",
    "    \n",
    "    # Displaying and saving the output according to the parameters set.\n",
    "    if show:\n",
    "      plt.figure(figsize = (25,14))\n",
    "      plt.imshow(image)\n",
    "      plt.show()"
   ],
   "metadata": {
    "collapsed": false
   },
   "id": "9d277b890f255aa5",
   "execution_count": null
  },
  {
   "cell_type": "code",
   "outputs": [],
   "source": [
    "def score_calc(pth, annot):\n",
    "  # Importing distance metric.\n",
    "  from Levenshtein import distance\n",
    "  score_all = []\n",
    " \n",
    "  # Looping through the output text files and storing the OCR output in a variable.\n",
    "  for out_file in os.listdir(pth):\n",
    "    if out_file.endswith('.txt'):\n",
    "      with open(os.path.join(pth, out_file), 'rb') as f:\n",
    "        out = f.read()\n",
    "        f.close()\n",
    "      \n",
    "      # Cleaning the OCR output text.\n",
    "      try:\n",
    "        out = str(out).split(',')[1].split(',')[0].replace(\"'\", '').lower()\n",
    "      except:\n",
    "        print('OCR output does not exist')\n",
    " \n",
    "      # Opening the ground truth file and calculating weighted distance between ground truth and OCR output.\n",
    "      with open(annot) as f:\n",
    "        for line in f:\n",
    "          #print(out_file.split('.')[0], line.split(',')[0])\n",
    "          if line.split(',')[0] == out_file.split('.')[0]:\n",
    "            gt = line.split(',')[1].lower()\n",
    "            score = distance(str(out), str(gt))/len(gt)\n",
    "            score_all.append(score)\n",
    "            break\n",
    "  # Printing the average score.\n",
    "  print(\"final score:\", sum(score_all)/len(score_all))"
   ],
   "metadata": {
    "collapsed": false
   },
   "id": "7f7f536a14048175",
   "execution_count": null
  },
  {
   "cell_type": "code",
   "outputs": [],
   "source": [
    "out_path = 'out_def'\n",
    "rec_model_dir = 'rec_dir'\n",
    "input = 'input_dir'\n",
    "sys.argv = ['']\n",
    "rec(utility.parse_args(), out_path, input, rec_model_dir, show = False)"
   ],
   "metadata": {
    "collapsed": false
   },
   "id": "b57f486aa322136f",
   "execution_count": null
  },
  {
   "cell_type": "markdown",
   "source": [
    "____________________NEXT____________________"
   ],
   "metadata": {
    "collapsed": false
   },
   "id": "e89560a364fa13e2"
  },
  {
   "cell_type": "code",
   "outputs": [],
   "source": [
    "from paddleocr import PaddleOCR\n",
    "\n",
    "# Specify the path to the non-default detection model\n",
    "# det_model_dir = 'det_dir'\n",
    "# rec_model_dir = 'rec_dir'\n",
    "# rec_char_dict_path=''\n",
    "\n",
    "# Initialize the OCR class with the det_model_dir parameter\n",
    "ocr = PaddleOCR(lang='ru')\n",
    "\n",
    "# Use the OCR instance for text detection\n",
    "result = ocr.ocr('input_dir/2.png')\n",
    "print(result)"
   ],
   "metadata": {
    "collapsed": false
   },
   "id": "feb629b4cdfde550",
   "execution_count": null
  },
  {
   "cell_type": "code",
   "outputs": [],
   "source": [
    "from paddleocr import PaddleOCR,draw_ocr\n",
    "import os\n",
    "import cv2\n",
    "import matplotlib.pyplot as plt\n",
    "\n",
    "image = None\n",
    "\n",
    "def save_ocr(img_path, out_path, result, font):\n",
    "  global img\n",
    "    \n",
    "  save_path = out_path\n",
    "  print(len(*result))\n",
    "  print(result)\n",
    "  image = cv2.imread(img_path)\n",
    "\n",
    "      \n",
    "  boxes = [line[-1][0] for line in result]\n",
    "    \n",
    "  txts = [line[-1][1][0] for line in result]\n",
    " \n",
    "  image = draw_ocr(image, boxes, txts, font_path=font)\n",
    "  \n",
    "  cv2.imwrite(save_path, image)\n",
    " \n",
    "  img = cv2.cvtColor(image)\n",
    "  plt.imshow(img)"
   ],
   "metadata": {
    "collapsed": false,
    "ExecuteTime": {
     "end_time": "2024-04-13T09:20:08.705964800Z",
     "start_time": "2024-04-13T09:20:08.695294100Z"
    }
   },
   "id": "14475f077aa71898",
   "execution_count": 65
  },
  {
   "cell_type": "code",
   "outputs": [
    {
     "name": "stdout",
     "output_type": "stream",
     "text": [
      "[2024/04/13 12:20:08] ppocr DEBUG: Namespace(help='==SUPPRESS==', use_gpu=False, use_xpu=False, use_npu=False, ir_optim=True, use_tensorrt=False, min_subgraph_size=15, precision='fp32', gpu_mem=500, gpu_id=0, image_dir=None, page_num=0, det_algorithm='DB', det_model_dir='C:\\\\Users\\\\Andre/.paddleocr/whl\\\\det\\\\ml\\\\Multilingual_PP-OCRv3_det_infer', det_limit_side_len=960, det_limit_type='max', det_box_type='quad', det_db_thresh=0.3, det_db_box_thresh=0.6, det_db_unclip_ratio=1.5, max_batch_size=10, use_dilation=False, det_db_score_mode='fast', det_east_score_thresh=0.8, det_east_cover_thresh=0.1, det_east_nms_thresh=0.2, det_sast_score_thresh=0.5, det_sast_nms_thresh=0.2, det_pse_thresh=0, det_pse_box_thresh=0.85, det_pse_min_area=16, det_pse_scale=1, scales=[8, 16, 32], alpha=1.0, beta=1.0, fourier_degree=5, rec_algorithm='SVTR_LCNet', rec_model_dir='C:\\\\Users\\\\Andre/.paddleocr/whl\\\\rec\\\\cyrillic\\\\cyrillic_PP-OCRv3_rec_infer', rec_image_inverse=True, rec_image_shape='3, 48, 320', rec_batch_num=6, max_text_length=25, rec_char_dict_path='D:\\\\PADLA\\\\.venv\\\\lib\\\\site-packages\\\\paddleocr\\\\ppocr\\\\utils\\\\dict\\\\cyrillic_dict.txt', use_space_char=True, vis_font_path='./doc/fonts/simfang.ttf', drop_score=0.5, e2e_algorithm='PGNet', e2e_model_dir=None, e2e_limit_side_len=768, e2e_limit_type='max', e2e_pgnet_score_thresh=0.5, e2e_char_dict_path='./ppocr/utils/ic15_dict.txt', e2e_pgnet_valid_set='totaltext', e2e_pgnet_mode='fast', use_angle_cls=False, cls_model_dir='C:\\\\Users\\\\Andre/.paddleocr/whl\\\\cls\\\\ch_ppocr_mobile_v2.0_cls_infer', cls_image_shape='3, 48, 192', label_list=['0', '180'], cls_batch_num=6, cls_thresh=0.9, enable_mkldnn=False, cpu_threads=10, use_pdserving=False, warmup=False, sr_model_dir=None, sr_image_shape='3, 32, 128', sr_batch_num=1, draw_img_save_dir='./inference_results', save_crop_res=False, crop_res_save_dir='./output', use_mp=False, total_process_num=1, process_id=0, benchmark=False, save_log_path='./log_output/', show_log=True, use_onnx=False, output='./output', table_max_len=488, table_algorithm='TableAttn', table_model_dir=None, merge_no_span_structure=True, table_char_dict_path=None, layout_model_dir=None, layout_dict_path=None, layout_score_threshold=0.5, layout_nms_threshold=0.5, kie_algorithm='LayoutXLM', ser_model_dir=None, re_model_dir=None, use_visual_backbone=True, ser_dict_path='../train_data/XFUND/class_list_xfun.txt', ocr_order_method=None, mode='structure', image_orientation=False, layout=True, table=True, ocr=True, recovery=False, use_pdf2docx_api=False, invert=False, binarize=False, alphacolor=(255, 255, 255), lang='ru', det=True, rec=True, type='ocr', ocr_version='PP-OCRv4', structure_version='PP-StructureV2')\n",
      "[2024/04/13 12:20:09] ppocr WARNING: Since the angle classifier is not initialized, it will not be used during the forward process\n",
      "[2024/04/13 12:20:09] ppocr DEBUG: dt_boxes num : 45, elapsed : 0.11212611198425293\n",
      "[2024/04/13 12:20:10] ppocr DEBUG: rec_res num  : 45, elapsed : 0.22095108032226562\n"
     ]
    }
   ],
   "source": [
    "out_path = 'out_def/out_2.png'\n",
    "img_path = 'input_dir/3.jpg'\n",
    "ocr = PaddleOCR(lang='ru')\n",
    "result = ocr.ocr(img_path)"
   ],
   "metadata": {
    "collapsed": false,
    "ExecuteTime": {
     "end_time": "2024-04-13T09:20:10.069368700Z",
     "start_time": "2024-04-13T09:20:08.908040800Z"
    }
   },
   "id": "4ed7c7743aa877a4",
   "execution_count": 66
  },
  {
   "cell_type": "code",
   "outputs": [
    {
     "name": "stdout",
     "output_type": "stream",
     "text": [
      "33\n",
      "[[[[[1707.0, 122.0], [1843.0, 110.0], [1850.0, 191.0], [1715.0, 204.0]], ('оо', 0.8622561693191528)], [[[1852.0, 133.0], [1924.0, 133.0], [1924.0, 185.0], [1852.0, 185.0]], ('г.', 0.7508884072303772)], [[[2538.0, 136.0], [2970.0, 113.0], [2981.0, 328.0], [2549.0, 351.0]], ('оо', 0.9191939234733582)], [[[1569.0, 148.0], [1669.0, 136.0], [1678.0, 204.0], [1577.0, 217.0]], ('нд', 0.9174261093139648)], [[[1186.0, 166.0], [1367.0, 143.0], [1376.0, 221.0], [1195.0, 243.0]], ('цеh', 0.7657256722450256)], [[[856.0, 177.0], [1174.0, 167.0], [1177.0, 244.0], [858.0, 254.0]], ('ишеваа', 0.9117700457572937)], [[[1734.0, 293.0], [2103.0, 283.0], [2105.0, 343.0], [1736.0, 353.0]], ('SHEPгETичECKAя', 0.7607287764549255)], [[[1508.0, 335.0], [1634.0, 335.0], [1634.0, 382.0], [1508.0, 382.0]], ('зOAы', 0.5620860457420349)], [[[1121.0, 352.0], [1289.0, 352.0], [1289.0, 412.0], [1121.0, 412.0]], ('жиры', 0.6446717977523804)], [[[1801.0, 344.0], [2035.0, 334.0], [2038.0, 394.0], [1803.0, 405.0]], ('цEнHос ф', 0.6662229895591736)], [[[2535.0, 371.0], [2957.0, 342.0], [2963.0, 432.0], [2541.0, 461.0]], ('грамм', 0.9966303706169128)], [[[1170.0, 450.0], [1307.0, 461.0], [1304.0, 512.0], [1166.0, 501.0]], ('т', 0.7848411798477173)], [[[1810.0, 451.0], [1932.0, 451.0], [1932.0, 498.0], [1810.0, 498.0]], ('зао', 0.7302581667900085)], [[[1919.0, 447.0], [2062.0, 447.0], [2062.0, 494.0], [1919.0, 494.0]], ('Ккал', 0.9183934926986694)], [[[2230.0, 958.0], [2877.0, 958.0], [2877.0, 1104.0], [2230.0, 1104.0]], ('ремиум', 0.9991940855979919)], [[[1084.0, 975.0], [1344.0, 975.0], [1344.0, 1108.0], [1084.0, 1108.0]], ('Рис', 0.9775128960609436)], [[[641.0, 990.0], [1045.0, 973.0], [1052.0, 1141.0], [647.0, 1157.0]], ('Крупа', 0.9600086212158203)], [[[1385.0, 984.0], [2157.0, 970.0], [2159.0, 1090.0], [1387.0, 1105.0]], ('ациональ', 0.9430368542671204)], [[[0.0, 1041.0], [231.0, 1029.0], [237.0, 1162.0], [0.0, 1174.0]], ('иум', 0.962139368057251)], [[[1704.0, 1135.0], [2025.0, 1124.0], [2030.0, 1261.0], [1708.0, 1273.0]], ('оог', 0.9998836517333984)], [[[655.0, 1160.0], [1088.0, 1160.0], [1088.0, 1280.0], [655.0, 1280.0]], ('Смесь', 0.9839363098144531)], [[[1138.0, 1155.0], [1659.0, 1155.0], [1659.0, 1293.0], [1138.0, 1293.0]], ('дикур', 0.9638992547988892)], [[[2469.0, 1414.0], [3048.0, 1400.0], [3050.0, 1503.0], [2471.0, 1517.0]], ('13.03.2024', 0.9587923288345337)], [[[0.0, 1471.0], [404.0, 1446.0], [409.0, 1540.0], [4.0, 1565.0]], ('.03.2024', 0.9693522453308105)], [[[1850.0, 1690.0], [2551.0, 1703.0], [2544.0, 2158.0], [1842.0, 2146.0]], ('205', 0.8476023077964783)], [[[2814.0, 1688.0], [2961.0, 1688.0], [2961.0, 1959.0], [2814.0, 1959.0]], ('сэ', 0.6421743631362915)], [[[223.0, 1714.0], [370.0, 1714.0], [370.0, 1972.0], [223.0, 1972.0]], ('с', 0.6542969346046448)], [[[689.0, 1770.0], [1445.0, 1770.0], [1445.0, 1856.0], [689.0, 1856.0]], ('бOOSз5OOбт8', 0.7309215068817139)], [[[689.0, 1899.0], [979.0, 1899.0], [979.0, 1993.0], [689.0, 1993.0]], ('587о', 0.7390985488891602)], [[[231.0, 2083.0], [529.0, 2083.0], [529.0, 2229.0], [231.0, 2229.0]], ('Руь', 0.6875713467597961)], [[[2785.0, 2092.0], [3125.0, 2092.0], [3125.0, 2234.0], [2785.0, 2234.0]], ('уь', 0.9758388996124268)], [[[702.0, 2182.0], [1365.0, 2191.0], [1364.0, 2281.0], [701.0, 2272.0]], ('No.сw', 0.5698068141937256)], [[[1193.0, 2294.0], [1390.0, 2294.0], [1390.0, 2341.0], [1193.0, 2341.0]], ('Yseet?', 0.6733085513114929)]]]\n"
     ]
    },
    {
     "ename": "error",
     "evalue": "OpenCV(4.6.0) :-1: error: (-5:Bad argument) in function 'cvtColor'\n> Overload resolution failed:\n>  - cvtColor() missing required argument 'code' (pos 2)\n>  - cvtColor() missing required argument 'code' (pos 2)\n",
     "output_type": "error",
     "traceback": [
      "\u001B[1;31m---------------------------------------------------------------------------\u001B[0m",
      "\u001B[1;31merror\u001B[0m                                     Traceback (most recent call last)",
      "Cell \u001B[1;32mIn[67], line 2\u001B[0m\n\u001B[0;32m      1\u001B[0m font \u001B[38;5;241m=\u001B[39m \u001B[38;5;124m'\u001B[39m\u001B[38;5;124msimfang.ttf\u001B[39m\u001B[38;5;124m'\u001B[39m\n\u001B[1;32m----> 2\u001B[0m \u001B[43msave_ocr\u001B[49m\u001B[43m(\u001B[49m\u001B[43mimg_path\u001B[49m\u001B[43m,\u001B[49m\u001B[43m \u001B[49m\u001B[43mout_path\u001B[49m\u001B[43m,\u001B[49m\u001B[43m \u001B[49m\u001B[43mresult\u001B[49m\u001B[43m,\u001B[49m\u001B[43m \u001B[49m\u001B[43mfont\u001B[49m\u001B[43m)\u001B[49m\n",
      "Cell \u001B[1;32mIn[65], line 25\u001B[0m, in \u001B[0;36msave_ocr\u001B[1;34m(img_path, out_path, result, font)\u001B[0m\n\u001B[0;32m     21\u001B[0m image \u001B[38;5;241m=\u001B[39m draw_ocr(image, boxes, txts, font_path\u001B[38;5;241m=\u001B[39mfont)\n\u001B[0;32m     23\u001B[0m cv2\u001B[38;5;241m.\u001B[39mimwrite(save_path, image)\n\u001B[1;32m---> 25\u001B[0m img \u001B[38;5;241m=\u001B[39m \u001B[43mcv2\u001B[49m\u001B[38;5;241;43m.\u001B[39;49m\u001B[43mcvtColor\u001B[49m\u001B[43m(\u001B[49m\u001B[43mimage\u001B[49m\u001B[43m)\u001B[49m\n\u001B[0;32m     26\u001B[0m plt\u001B[38;5;241m.\u001B[39mimshow(img)\n",
      "\u001B[1;31merror\u001B[0m: OpenCV(4.6.0) :-1: error: (-5:Bad argument) in function 'cvtColor'\n> Overload resolution failed:\n>  - cvtColor() missing required argument 'code' (pos 2)\n>  - cvtColor() missing required argument 'code' (pos 2)\n"
     ]
    }
   ],
   "source": [
    "font = 'simfang.ttf'\n",
    "save_ocr(img_path, out_path, result, font)"
   ],
   "metadata": {
    "collapsed": false,
    "ExecuteTime": {
     "end_time": "2024-04-13T09:20:10.254795500Z",
     "start_time": "2024-04-13T09:20:10.071369200Z"
    }
   },
   "id": "5501ee3d17dafad6",
   "execution_count": 67
  },
  {
   "cell_type": "code",
   "outputs": [],
   "source": [],
   "metadata": {
    "collapsed": false,
    "ExecuteTime": {
     "end_time": "2024-04-13T09:20:10.257801500Z",
     "start_time": "2024-04-13T09:20:10.255795200Z"
    }
   },
   "id": "fc70ada9dfa0727f"
  },
  {
   "cell_type": "code",
   "outputs": [],
   "source": [],
   "metadata": {
    "collapsed": false
   },
   "id": "b9704fe4dd2e7ac3"
  }
 ],
 "metadata": {
  "kernelspec": {
   "display_name": "Python 3",
   "language": "python",
   "name": "python3"
  },
  "language_info": {
   "codemirror_mode": {
    "name": "ipython",
    "version": 2
   },
   "file_extension": ".py",
   "mimetype": "text/x-python",
   "name": "python",
   "nbconvert_exporter": "python",
   "pygments_lexer": "ipython2",
   "version": "2.7.6"
  }
 },
 "nbformat": 4,
 "nbformat_minor": 5
}
